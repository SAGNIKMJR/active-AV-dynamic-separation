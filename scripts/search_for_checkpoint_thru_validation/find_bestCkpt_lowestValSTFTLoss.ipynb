{
 "cells": [
  {
   "cell_type": "code",
   "execution_count": 6,
   "id": "cb95e755",
   "metadata": {},
   "outputs": [],
   "source": [
    "import os"
   ]
  },
  {
   "cell_type": "code",
   "execution_count": 7,
   "id": "83feff32",
   "metadata": {},
   "outputs": [],
   "source": [
    "### replace with necessary path to val dir\n",
    "SOURCE_DIR = \"../../runs_val/active/near_target/\"\n",
    "assert os.path.isdir(SOURCE_DIR)\n",
    "\n",
    "CKPT_DIR = os.path.join(SOURCE_DIR, \"data\")\n",
    "assert os.path.isdir(CKPT_DIR)\n",
    "\n",
    "TRAIN_LOG_PATH = os.path.join(SOURCE_DIR, \"train.log\")\n",
    "assert os.path.exists(TRAIN_LOG_PATH)"
   ]
  },
  {
   "cell_type": "code",
   "execution_count": 8,
   "id": "4f462c6e",
   "metadata": {},
   "outputs": [],
   "source": [
    "\"\"\"mono and monoFromMem losses\"\"\"\n",
    "ckpt2mono_allSteps_dct = {}\n",
    "ckpt2monoFromMem_allSteps_dct = {}\n",
    "ckpt_number = -1\n",
    "look_for_newCkpt = True\n",
    "with open(TRAIN_LOG_PATH, \"r\") as fo:\n",
    "    for line in fo:\n",
    "        if look_for_newCkpt and (len(line.split(\" \")) >= 3) and (line.split(\" \")[2] == \"Mono\") and (line.split(\" \")[7] == \"all\") and (line.split(\" \")[9] == \"---\"):\n",
    "            ckpt2mono_allSteps_dct[ckpt_number] = [float(line.split(\" \")[11][:-1]), float(line.split(\" \")[13][:-1])]\n",
    "    \n",
    "        if look_for_newCkpt and (len(line.split(\" \")) >= 3) and (line.split(\" \")[2] == \"MonoFromMem\") and (line.split(\" \")[7] == \"all\") and (line.split(\" \")[9] == \"---\"):\n",
    "            look_for_newCkpt = False\n",
    "            ckpt2monoFromMem_allSteps_dct[ckpt_number] = [float(line.split(\" \")[11][:-1]), float(line.split(\" \")[13][:-1])]\n",
    "                \n",
    "        if (not look_for_newCkpt) and (len(line.split(\" \")) >= 4) and (line.split(\" \")[2] == \"=======current_ckpt:\"):\n",
    "            look_for_newCkpt = True\n",
    "            ckpt_number = int(line.split(\" \")[-1].split(\"=======\")[0].split(\"/\")[-1].split(\".\")[1])            "
   ]
  },
  {
   "cell_type": "code",
   "execution_count": 9,
   "id": "52b97772",
   "metadata": {},
   "outputs": [],
   "source": [
    "ckpt_numbers = []\n",
    "missing_key = -1\n",
    "for (dirpath, dirnames, filenames) in os.walk(CKPT_DIR):\n",
    "    ckpt_numbers.extend(filenames)\n",
    "    break\n",
    "    \n",
    "for i in range(len(ckpt_numbers)):\n",
    "    ckpt_numbers[i] = int(ckpt_numbers[i].split(\".\")[1])\n",
    "    \n",
    "for key in ckpt_numbers:\n",
    "    if key not in list(ckpt2mono_allSteps_dct.keys()):\n",
    "        missing_key = key\n",
    "        \n",
    "ckpt2mono_allSteps_dct_final = {}\n",
    "ckpt2monoFromMem_allSteps_dct_final = {}\n",
    "for key in ckpt2mono_allSteps_dct:\n",
    "    if key == -1:\n",
    "        ckpt2mono_allSteps_dct_final[missing_key] = ckpt2mono_allSteps_dct[key]\n",
    "        ckpt2monoFromMem_allSteps_dct_final[missing_key] = ckpt2monoFromMem_allSteps_dct[key]\n",
    "    else:\n",
    "        ckpt2mono_allSteps_dct_final[key] = ckpt2mono_allSteps_dct[key]\n",
    "        ckpt2monoFromMem_allSteps_dct_final[key] = ckpt2monoFromMem_allSteps_dct[key]"
   ]
  },
  {
   "cell_type": "code",
   "execution_count": 10,
   "id": "592bb397",
   "metadata": {},
   "outputs": [
    {
     "name": "stdout",
     "output_type": "stream",
     "text": [
      "best validation checkpoint:  ckpt.130.pth , mono_allSteps: mean -- 0.163263, std -- 0.023723\n",
      "best validation checkpoint:  ckpt.130.pth , monoFromMem_allSteps: mean -- 0.154667, std -- 0.028789\n"
     ]
    }
   ],
   "source": [
    "min_mono_allSteps = [float(\"inf\"), 0]\n",
    "min_monoFromMem_allSteps = [float(\"inf\"), 0]\n",
    "\n",
    "for key, value in ckpt2mono_allSteps_dct_final.items():\n",
    "    if value[0] < min_mono_allSteps[0]:\n",
    "        min_mono_allSteps = value\n",
    "        bestCkpt_mono_allSteps = \"ckpt.\" + str(key) + \".pth\"\n",
    "        \n",
    "    if ckpt2monoFromMem_allSteps_dct_final[key][0] < min_monoFromMem_allSteps[0]:\n",
    "        min_monoFromMem_allSteps = ckpt2monoFromMem_allSteps_dct_final[key]\n",
    "        bestCkpt_monoFromMem_allSteps = \"ckpt.\" + str(key) + \".pth\"  \n",
    "        \n",
    "print(\"best validation checkpoint: \", bestCkpt_mono_allSteps,\n",
    "      \", mono_allSteps: mean -- {}, std -- {}\".format(min_mono_allSteps[0],\n",
    "                                                      min_mono_allSteps[1]))\n",
    "print(\"best validation checkpoint: \", bestCkpt_monoFromMem_allSteps,\n",
    "      \", monoFromMem_allSteps: mean -- {}, std -- {}\".format(min_monoFromMem_allSteps[0],\n",
    "                                                             min_monoFromMem_allSteps[1]))"
   ]
  }
 ],
 "metadata": {
  "kernelspec": {
   "display_name": "Python 3",
   "language": "python",
   "name": "python3"
  },
  "language_info": {
   "codemirror_mode": {
    "name": "ipython",
    "version": 3
   },
   "file_extension": ".py",
   "mimetype": "text/x-python",
   "name": "python",
   "nbconvert_exporter": "python",
   "pygments_lexer": "ipython3",
   "version": "3.6.13"
  }
 },
 "nbformat": 4,
 "nbformat_minor": 5
}
