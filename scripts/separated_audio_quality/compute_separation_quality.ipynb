{
 "cells": [
  {
   "cell_type": "code",
   "execution_count": null,
   "id": "6e9ced4c",
   "metadata": {},
   "outputs": [],
   "source": [
    "import numpy as np\n",
    "import os\n",
    "import pickle\n",
    "import math"
   ]
  },
  {
   "cell_type": "code",
   "execution_count": null,
   "id": "7a559c54",
   "metadata": {},
   "outputs": [],
   "source": [
    "### replace with necessary path to test dir\n",
    "SOURCE_DIR = \"../../runs_test/active/near_target/\"\n",
    "assert os.path.isdir(SOURCE_DIR)\n",
    "\n",
    "EVAL_METRICS_FILENAME = \"eval_metrics.pkl\"\n",
    "\n",
    "EVAL_METRICS_FILE_FULL_PATH = os.path.join(SOURCE_DIR, EVAL_METRICS_FILENAME)\n",
    "assert os.path.exists(EVAL_METRICS_FILE_FULL_PATH)\n",
    "\n",
    "TARGET_METRIC = \"si_sdr\" # \"STFT_L2_loss\", \"si_sdr\"\n",
    "PRED_TYPE = \"monoFromMem\" # \"mono\", \"monoFromMem\""
   ]
  },
  {
   "cell_type": "code",
   "execution_count": null,
   "id": "4e8487a3",
   "metadata": {},
   "outputs": [],
   "source": [
    "with open(EVAL_METRICS_FILE_FULL_PATH, \"rb\") as fi:\n",
    "    eval_metrics_dct = pickle.load(fi)"
   ]
  },
  {
   "cell_type": "code",
   "execution_count": null,
   "id": "6e2abd6c",
   "metadata": {},
   "outputs": [],
   "source": [
    "assert PRED_TYPE in eval_metrics_dct\n",
    "eval_metrics_dct_thisPredType = eval_metrics_dct[PRED_TYPE]\n",
    "\n",
    "assert TARGET_METRIC in eval_metrics_dct_thisPredType\n",
    "\n",
    "last_metricValue_perEpisode = []\n",
    "last_stepIdx = None\n",
    "for ep_idx in eval_metrics_dct_thisPredType[TARGET_METRIC]:\n",
    "    evalMetrics_allSteps_thisEpisode = list(eval_metrics_dct_thisPredType[TARGET_METRIC][ep_idx].values())\n",
    "    if not math.isnan(np.mean(evalMetrics_allSteps_thisEpisode)):\n",
    "        last_metricValue_perEpisode.append(np.mean(evalMetrics_allSteps_thisEpisode))"
   ]
  },
  {
   "cell_type": "code",
   "execution_count": null,
   "id": "b7beeea8",
   "metadata": {},
   "outputs": [],
   "source": [
    "print(f\"{PRED_TYPE} {TARGET_METRIC} mean: {np.mean(last_metricValue_perEpisode)}, std: {np.std(last_metricValue_perEpisode)}\")"
   ]
  }
 ],
 "metadata": {
  "kernelspec": {
   "display_name": "Python 3",
   "language": "python",
   "name": "python3"
  },
  "language_info": {
   "codemirror_mode": {
    "name": "ipython",
    "version": 3
   },
   "file_extension": ".py",
   "mimetype": "text/x-python",
   "name": "python",
   "nbconvert_exporter": "python",
   "pygments_lexer": "ipython3",
   "version": "3.6.13"
  }
 },
 "nbformat": 4,
 "nbformat_minor": 5
}
