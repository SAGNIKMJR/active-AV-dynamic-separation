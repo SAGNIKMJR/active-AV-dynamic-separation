{
 "cells": [
  {
   "cell_type": "code",
   "execution_count": 1,
   "id": "6e9ced4c",
   "metadata": {},
   "outputs": [],
   "source": [
    "import numpy as np\n",
    "import os\n",
    "import pickle\n",
    "import math\n",
    "import json"
   ]
  },
  {
   "cell_type": "code",
   "execution_count": 9,
   "id": "7a559c54",
   "metadata": {},
   "outputs": [],
   "source": [
    "### replace with necessary path to test dir\n",
    "SOURCE_DIR = \"../../runs_test/active/near_target/\"\n",
    "assert os.path.isdir(SOURCE_DIR)\n",
    "\n",
    "EVAL_METRICS_FILENAME = \"eval_metrics.pkl\"\n",
    "\n",
    "EVAL_METRICS_FILE_FULL_PATH = os.path.join(SOURCE_DIR, EVAL_METRICS_FILENAME)\n",
    "assert os.path.exists(EVAL_METRICS_FILE_FULL_PATH)\n",
    "\n",
    "TARGET_METRICS = {\"SI_SDR\": \"si_sdr\", \"STFT_L2_LOSS\": \"STFT_L2_loss\"}\n",
    "PRED_TYPE = \"monoFromMem\""
   ]
  },
  {
   "cell_type": "code",
   "execution_count": 10,
   "id": "4e8487a3",
   "metadata": {},
   "outputs": [],
   "source": [
    "with open(EVAL_METRICS_FILE_FULL_PATH, \"rb\") as fi:\n",
    "    eval_metrics_dct = pickle.load(fi)"
   ]
  },
  {
   "cell_type": "code",
   "execution_count": 11,
   "id": "6e2abd6c",
   "metadata": {},
   "outputs": [],
   "source": [
    "assert PRED_TYPE in eval_metrics_dct\n",
    "eval_metrics_dct_thisPredType = eval_metrics_dct[PRED_TYPE]\n",
    "\n",
    "last_metricValue_perEpisode = []\n",
    "json_dct = {}\n",
    "for k, v in TARGET_METRICS.items():\n",
    "    assert v in eval_metrics_dct_thisPredType\n",
    "    for ep_idx in eval_metrics_dct_thisPredType[v]:\n",
    "        evalMetrics_allSteps_thisEpisode = list(eval_metrics_dct_thisPredType[v][ep_idx].values())\n",
    "        if not math.isnan(np.mean(evalMetrics_allSteps_thisEpisode)):\n",
    "            last_metricValue_perEpisode.append(np.mean(evalMetrics_allSteps_thisEpisode))\n",
    "    json_dct[k] = np.mean(last_metricValue_perEpisode)"
   ]
  },
  {
   "cell_type": "code",
   "execution_count": 7,
   "id": "d6411c1a",
   "metadata": {},
   "outputs": [
    {
     "name": "stdout",
     "output_type": "stream",
     "text": [
      "{'SI_SDR': 3.678091785685116, 'STFT_L2_LOSS': 1.9779117008347213}\n"
     ]
    }
   ],
   "source": [
    "print(json_dct)"
   ]
  },
  {
   "cell_type": "code",
   "execution_count": 12,
   "id": "b834dcd7",
   "metadata": {},
   "outputs": [],
   "source": [
    "with open(os.path.join(SOURCE_DIR, \"submission_baseline_separation.json\"), \"w\") as fo:\n",
    "    json.dump(json_dct, fo)"
   ]
  }
 ],
 "metadata": {
  "kernelspec": {
   "display_name": "Python 3",
   "language": "python",
   "name": "python3"
  },
  "language_info": {
   "codemirror_mode": {
    "name": "ipython",
    "version": 3
   },
   "file_extension": ".py",
   "mimetype": "text/x-python",
   "name": "python",
   "nbconvert_exporter": "python",
   "pygments_lexer": "ipython3",
   "version": "3.6.13"
  }
 },
 "nbformat": 4,
 "nbformat_minor": 5
}
